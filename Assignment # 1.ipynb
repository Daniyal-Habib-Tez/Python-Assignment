{
 "cells": [
  {
   "cell_type": "code",
   "execution_count": 4,
   "metadata": {},
   "outputs": [
    {
     "name": "stdout",
     "output_type": "stream",
     "text": [
      "Twinkle, twinkle, little star,\n",
      "\tHow I wonder what you are!\n",
      "\t\tUp above the world so high,\n",
      "\t\tLike a diamond in the sky.\n",
      "Twinkle, twinkle, little star,\n",
      "\tHow I wonder what you are\n"
     ]
    }
   ],
   "source": [
    "#Question No. 1:\n",
    "print(\"Twinkle, twinkle, little star,\")\n",
    "print(\"\\tHow I wonder what you are!\")\n",
    "print(\"\\t\\tUp above the world so high,\")\n",
    "print(\"\\t\\tLike a diamond in the sky.\")\n",
    "print(\"Twinkle, twinkle, little star,\")\n",
    "print(\"\\tHow I wonder what you are\")"
   ]
  },
  {
   "cell_type": "code",
   "execution_count": 8,
   "metadata": {},
   "outputs": [
    {
     "name": "stdout",
     "output_type": "stream",
     "text": [
      "Python version im using is 3.7.3 (default, Apr 24 2019, 15:29:51) [MSC v.1915 64 bit (AMD64)]\n"
     ]
    }
   ],
   "source": [
    "#Question NO. 2:\n",
    "import sys\n",
    "print(\"Python version im using is\", sys.version)"
   ]
  },
  {
   "cell_type": "code",
   "execution_count": 13,
   "metadata": {},
   "outputs": [
    {
     "name": "stdout",
     "output_type": "stream",
     "text": [
      "Date and Time is :  2019-11-01 19:10:08.788249\n"
     ]
    }
   ],
   "source": [
    "#Question No. 3:\n",
    "from datetime import datetime\n",
    "now = datetime.now()\n",
    "print(\"Date and Time is : \",now)"
   ]
  },
  {
   "cell_type": "code",
   "execution_count": 19,
   "metadata": {},
   "outputs": [
    {
     "name": "stdout",
     "output_type": "stream",
     "text": [
      "Radius of Circle = 1.2\n",
      "Area of circle is :  4.52448\n"
     ]
    }
   ],
   "source": [
    "#Question No.4:\n",
    "r = float(input(\"Radius of Circle = \"))\n",
    "area = 3.142 * r * r\n",
    "print(\"Area of circle is : \",area)"
   ]
  },
  {
   "cell_type": "code",
   "execution_count": 32,
   "metadata": {},
   "outputs": [
    {
     "name": "stdout",
     "output_type": "stream",
     "text": [
      "Enter First name : Dani\n",
      "Enter last name : habib\n",
      "Name in reverse :  habib Dani\n",
      "['Habib', 'Daniyal']\n"
     ]
    }
   ],
   "source": [
    "#Question No. 5:\n",
    "first = input(\"Enter First name : \")\n",
    "last = input(\"Enter last name : \")\n",
    "fullname = last + \" \" + first\n",
    "print(\"Name in reverse : \",fullname)"
   ]
  },
  {
   "cell_type": "code",
   "execution_count": 30,
   "metadata": {},
   "outputs": [
    {
     "name": "stdout",
     "output_type": "stream",
     "text": [
      "Enter firt number = 5\n",
      "Enter second number = 5\n",
      "10\n"
     ]
    }
   ],
   "source": [
    "#Question No.6:\n",
    "pehla = int(input(\"Enter firt number = \"))\n",
    "second = int(input(\"Enter second number = \"))\n",
    "add = pehla + second\n",
    "print(add)"
   ]
  },
  {
   "cell_type": "code",
   "execution_count": null,
   "metadata": {},
   "outputs": [],
   "source": []
  }
 ],
 "metadata": {
  "kernelspec": {
   "display_name": "Python 3",
   "language": "python",
   "name": "python3"
  },
  "language_info": {
   "codemirror_mode": {
    "name": "ipython",
    "version": 3
   },
   "file_extension": ".py",
   "mimetype": "text/x-python",
   "name": "python",
   "nbconvert_exporter": "python",
   "pygments_lexer": "ipython3",
   "version": "3.7.3"
  }
 },
 "nbformat": 4,
 "nbformat_minor": 2
}
