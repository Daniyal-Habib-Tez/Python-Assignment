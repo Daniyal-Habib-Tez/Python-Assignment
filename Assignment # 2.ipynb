{
 "cells": [
  {
   "cell_type": "code",
   "execution_count": 14,
   "metadata": {
    "scrolled": false
   },
   "outputs": [
    {
     "name": "stdout",
     "output_type": "stream",
     "text": [
      "Enter course 1 number : 60\n",
      "Enter course 2 number : 90\n",
      "Enter course 3 number : 50\n",
      "Enter course 4 number : 40\n",
      "Enter course 5 number : 80\n",
      "Total number is  :  64.0\n",
      "Grade: D\n"
     ]
    }
   ],
   "source": [
    "#Question no.1 \n",
    "sub1 = int(input(\"Enter course 1 number : \"))\n",
    "sub2 = int(input(\"Enter course 2 number : \"))\n",
    "sub3 = int(input(\"Enter course 3 number : \"))\n",
    "sub4 = int(input(\"Enter course 4 number : \"))\n",
    "sub5 = int(input(\"Enter course 5 number : \"))\n",
    "avg = (sub1 + sub2 + sub3 + sub4 + sub5) / 5\n",
    "print(\"Total number is  : \", avg)\n",
    "if(avg >= 91):\n",
    "    print(\"Grade: A\")\n",
    "elif(avg >= 81 and avg <= 90):\n",
    "    print(\"Grade: B\")\n",
    "elif(avg >= 71 and avg <= 80):\n",
    "    print(\"Grade: C\")\n",
    "elif(avg >= 61 and avg <= 70):\n",
    "    print(\"Grade: D\")\n",
    "else:\n",
    "    print(\"Grade: F\")"
   ]
  },
  {
   "cell_type": "code",
   "execution_count": 20,
   "metadata": {},
   "outputs": [
    {
     "name": "stdout",
     "output_type": "stream",
     "text": [
      "Enter number to chk it is even or odd : 20\n",
      "NUmber is even\n"
     ]
    }
   ],
   "source": [
    "#Questio no.2\n",
    "number = int(input(\"Enter number to chk it is even or odd : \"))\n",
    "if (number%2 == 0):\n",
    "    print(\"NUmber is even\")\n",
    "else:\n",
    "    print(\"Number is odd\")\n",
    "\n"
   ]
  },
  {
   "cell_type": "code",
   "execution_count": 22,
   "metadata": {},
   "outputs": [
    {
     "name": "stdout",
     "output_type": "stream",
     "text": [
      "4\n"
     ]
    }
   ],
   "source": [
    "#Question no.3\n",
    "list1 = [\"Daniyal\", \"Habib\", \"ali\", \"hamza\"]\n",
    "print(len(list1))"
   ]
  },
  {
   "cell_type": "code",
   "execution_count": 25,
   "metadata": {},
   "outputs": [
    {
     "name": "stdout",
     "output_type": "stream",
     "text": [
      "How man numbers : 5\n",
      "Enter number : 2\n",
      "Enter number : 3\n",
      "Enter number : 2\n",
      "Enter number : 6\n",
      "Enter number : 5\n",
      "SUm of numbers :  18\n"
     ]
    }
   ],
   "source": [
    "#Question no.4\n",
    "list2 = []\n",
    "numbers = int(input(\"How man numbers : \"))\n",
    "for n in range(numbers):\n",
    "    num = int(input(\"Enter number : \"))\n",
    "    list2.append(num)\n",
    "print(\"SUm of numbers : \",sum(list2))"
   ]
  },
  {
   "cell_type": "code",
   "execution_count": 26,
   "metadata": {},
   "outputs": [
    {
     "name": "stdout",
     "output_type": "stream",
     "text": [
      "How many numbers: 4\n",
      "Enter number 23\n",
      "Enter number 65\n",
      "Enter number 62\n",
      "Enter number 12\n",
      "Maximum element in the list is : 65 \n",
      "Minimum element in the list is : 12\n"
     ]
    }
   ],
   "source": [
    "#Question no.5\n",
    "lst = []\n",
    "num = int(input('How many numbers: '))\n",
    "for n in range(num):\n",
    "    numbers = int(input('Enter number '))\n",
    "    lst.append(numbers)\n",
    "print(\"Maximum element in the list is :\", max(lst), \"\\nMinimum element in the list is :\", min(lst))"
   ]
  },
  {
   "cell_type": "code",
   "execution_count": 34,
   "metadata": {},
   "outputs": [
    {
     "name": "stdout",
     "output_type": "stream",
     "text": [
      "Numbers less than 5 : 1\n",
      "Numbers less than 5 : 1\n",
      "Numbers less than 5 : 2\n",
      "Numbers less than 5 : 3\n"
     ]
    }
   ],
   "source": [
    "#Question no. 6\n",
    "a = [1, 1, 2, 3, 5, 8, 13, 21, 34, 55, 89]\n",
    "\n",
    "for nums in a:\n",
    "    if nums < 5:\n",
    "        print(\"Numbers less than 5 :\",nums)"
   ]
  },
  {
   "cell_type": "code",
   "execution_count": null,
   "metadata": {},
   "outputs": [],
   "source": []
  }
 ],
 "metadata": {
  "kernelspec": {
   "display_name": "Python 3",
   "language": "python",
   "name": "python3"
  },
  "language_info": {
   "codemirror_mode": {
    "name": "ipython",
    "version": 3
   },
   "file_extension": ".py",
   "mimetype": "text/x-python",
   "name": "python",
   "nbconvert_exporter": "python",
   "pygments_lexer": "ipython3",
   "version": "3.7.3"
  }
 },
 "nbformat": 4,
 "nbformat_minor": 2
}
